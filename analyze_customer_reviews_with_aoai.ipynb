{
 "cells": [
  {
   "cell_type": "markdown",
   "id": "3ab75e46",
   "metadata": {},
   "source": [
    "# Analyze Customer Reviews with Azure OpenAI Service (AOAI)"
   ]
  },
  {
   "cell_type": "code",
   "execution_count": 22,
   "id": "d239633a",
   "metadata": {},
   "outputs": [],
   "source": [
    "# Import necessary libraries.\n",
    "import pandas as pd\n",
    "import openai"
   ]
  },
  {
   "cell_type": "code",
   "execution_count": 2,
   "id": "8f0dd7af",
   "metadata": {},
   "outputs": [
    {
     "data": {
      "text/html": [
       "<div>\n",
       "<style scoped>\n",
       "    .dataframe tbody tr th:only-of-type {\n",
       "        vertical-align: middle;\n",
       "    }\n",
       "\n",
       "    .dataframe tbody tr th {\n",
       "        vertical-align: top;\n",
       "    }\n",
       "\n",
       "    .dataframe thead th {\n",
       "        text-align: right;\n",
       "    }\n",
       "</style>\n",
       "<table border=\"1\" class=\"dataframe\">\n",
       "  <thead>\n",
       "    <tr style=\"text-align: right;\">\n",
       "      <th></th>\n",
       "      <th>Title</th>\n",
       "      <th>Contents</th>\n",
       "      <th>Date</th>\n",
       "    </tr>\n",
       "  </thead>\n",
       "  <tbody>\n",
       "    <tr>\n",
       "      <th>0</th>\n",
       "      <td>I love ASOS</td>\n",
       "      <td>I love ASOS and allCustomer service they are j...</td>\n",
       "      <td>Dec 14, 2019</td>\n",
       "    </tr>\n",
       "    <tr>\n",
       "      <th>1</th>\n",
       "      <td>Quality customer service</td>\n",
       "      <td>My order was left outside and the school kids ...</td>\n",
       "      <td>Dec 14, 2019</td>\n",
       "    </tr>\n",
       "    <tr>\n",
       "      <th>2</th>\n",
       "      <td>Helpful and friendly staff.</td>\n",
       "      <td>Helpful and friendly staff.</td>\n",
       "      <td>Dec 14, 2019</td>\n",
       "    </tr>\n",
       "    <tr>\n",
       "      <th>3</th>\n",
       "      <td>Replied quickly and made sure their…</td>\n",
       "      <td>Replied quickly and made sure their customers ...</td>\n",
       "      <td>Dec 14, 2019</td>\n",
       "    </tr>\n",
       "    <tr>\n",
       "      <th>4</th>\n",
       "      <td>Helpful customer service officer but problemat...</td>\n",
       "      <td>Rebecca was patient and helpful with my querie...</td>\n",
       "      <td>Dec 14, 2019</td>\n",
       "    </tr>\n",
       "  </tbody>\n",
       "</table>\n",
       "</div>"
      ],
      "text/plain": [
       "                                               Title  \\\n",
       "0                                        I love ASOS   \n",
       "1                           Quality customer service   \n",
       "2                        Helpful and friendly staff.   \n",
       "3               Replied quickly and made sure their…   \n",
       "4  Helpful customer service officer but problemat...   \n",
       "\n",
       "                                            Contents          Date  \n",
       "0  I love ASOS and allCustomer service they are j...  Dec 14, 2019  \n",
       "1  My order was left outside and the school kids ...  Dec 14, 2019  \n",
       "2                        Helpful and friendly staff.  Dec 14, 2019  \n",
       "3  Replied quickly and made sure their customers ...  Dec 14, 2019  \n",
       "4  Rebecca was patient and helpful with my querie...  Dec 14, 2019  "
      ]
     },
     "execution_count": 2,
     "metadata": {},
     "output_type": "execute_result"
    }
   ],
   "source": [
    "# Load csv data to Pandas dataframe and display the header.\n",
    "df = pd.read_csv('./data/asos_transform.csv')\n",
    "df.head()"
   ]
  },
  {
   "cell_type": "code",
   "execution_count": 3,
   "id": "14c1c929",
   "metadata": {},
   "outputs": [
    {
     "name": "stdout",
     "output_type": "stream",
     "text": [
      "<class 'pandas.core.frame.DataFrame'>\n",
      "RangeIndex: 2000 entries, 0 to 1999\n",
      "Data columns (total 3 columns):\n",
      " #   Column    Non-Null Count  Dtype \n",
      "---  ------    --------------  ----- \n",
      " 0   Title     2000 non-null   object\n",
      " 1   Contents  2000 non-null   object\n",
      " 2   Date      2000 non-null   object\n",
      "dtypes: object(3)\n",
      "memory usage: 47.0+ KB\n"
     ]
    }
   ],
   "source": [
    "# Check dataframe information.\n",
    "df.info()"
   ]
  },
  {
   "cell_type": "code",
   "execution_count": 65,
   "id": "567c9270",
   "metadata": {},
   "outputs": [],
   "source": [
    "# Select the top 10 rows from the dataframe. It's part of the reviews on 14 Dec 2019.\n",
    "df_10 = df.head(10)"
   ]
  },
  {
   "cell_type": "code",
   "execution_count": 66,
   "id": "c71885e7",
   "metadata": {},
   "outputs": [],
   "source": [
    "# Configure the baseline configuration of the OpenAI library.\n",
    "openai.api_type = \"azure\"\n",
    "openai.api_base = \"https://PLESAE_ENTER_YOUR_OWNED_AOAI_DEPLOYMENT_NAME.openai.azure.com/\"\n",
    "openai.api_version = \"2022-12-01\"\n",
    "openai.api_key = \"PLEASE_ENTER_YOUR_OWNED_AOAI_SERVICE_KEY\""
   ]
  },
  {
   "cell_type": "code",
   "execution_count": 137,
   "id": "8aa2ceaa",
   "metadata": {},
   "outputs": [
    {
     "name": "stdout",
     "output_type": "stream",
     "text": [
      "Review Content: I love ASOS and allCustomer service they are just adorable\n",
      "Sentiment Classified\n",
      "Summarize Sentence Generated\n",
      "Summarize Keywords Generated\n",
      "Draft of Reply Message Generated\n",
      "Review Content: My order was left outside and the school kids ransacked it, however this was hermes who had left it outside and ASOS refunded me and resolved my issue immediately, Mairi was so kind and helpful. 10/10 customer service.\n",
      "Sentiment Classified\n",
      "Summarize Sentence Generated\n",
      "Summarize Keywords Generated\n",
      "Draft of Reply Message Generated\n",
      "Review Content: Helpful and friendly staff.\n",
      "Sentiment Classified\n",
      "Summarize Sentence Generated\n",
      "Summarize Keywords Generated\n",
      "Draft of Reply Message Generated\n",
      "Review Content: Replied quickly and made sure their customers were happy\n",
      "Sentiment Classified\n",
      "Summarize Sentence Generated\n",
      "Summarize Keywords Generated\n",
      "Draft of Reply Message Generated\n",
      "Review Content: Rebecca was patient and helpful with my queries, though there seems to be some logistic issues with ASOS delivery. I've only received 1 out of the 4 parcels that were deemed to be delivered on the same day.\n",
      "Sentiment Classified\n",
      "Summarize Sentence Generated\n",
      "Summarize Keywords Generated\n",
      "Draft of Reply Message Generated\n",
      "Review Content: Fast, kind, clear answer! Perfect that I love ASOS service\n",
      "Sentiment Classified\n",
      "Summarize Sentence Generated\n",
      "Summarize Keywords Generated\n",
      "Draft of Reply Message Generated\n",
      "Review Content: It took over 20 minutes to be connected with the online chat service. Upon waiting for the chat to commence, it then took 18 minutes for the customer assistant to respond with an answer to my query, which was also very unhelpful. Overall the service was poor when comparing to other online chat services.\n",
      "Sentiment Classified\n",
      "Summarize Sentence Generated\n",
      "Summarize Keywords Generated\n",
      "Draft of Reply Message Generated\n",
      "Review Content: Terrible firm. I had such a bad time trying to get them to deliver that I won't use them again. Unfortunately I forgot to tell my wife, watching her go through the same pantomime . How does this firm stay on business ?\n",
      "Sentiment Classified\n",
      "Summarize Sentence Generated\n",
      "Summarize Keywords Generated\n",
      "Draft of Reply Message Generated\n",
      "Review Content: very helpful, clear and prompt\n",
      "Sentiment Classified\n",
      "Summarize Sentence Generated\n",
      "Summarize Keywords Generated\n",
      "Draft of Reply Message Generated\n",
      "Review Content: Ordered a Vivienne Westwood which was delivered on time but  arrived sealed but with no watch inside!  Christmas stress!  After initial frustration of trying to find a FAST way to get this resolved (ASOS no phone number and a chat box that kept disappearing unless you were like lightning on keyboard?), I liaised with Donique who resolved this quickly, re-ordering to be delivered within 4 working days.  This has minimized my delivery anxiety, as it is a present for my daughter.  Friendly and efficient service overall and providing it arrives (it was confirmed it was in stock) with watch inside(!), I will be a happy customer again. Sad state of affairs, that people (presumably at packing stage) steal, when the rest of us work hard to earn money to buy these treats. ASOS so far, so good!\n",
      "Sentiment Classified\n",
      "Summarize Sentence Generated\n",
      "Summarize Keywords Generated\n",
      "Draft of Reply Message Generated\n"
     ]
    }
   ],
   "source": [
    "# Primary functions to interact with AOAI GPT-3 to obtain insights.\n",
    "review_content_list = []\n",
    "\n",
    "for index, headers in df_10.iterrows():\n",
    "    review_content = str(headers[\"Contents\"])\n",
    "    print(\"Review Content: {}\".format(review_content))\n",
    "    # Use AOAI GPT-3 to classify the sentiment of the review content.\n",
    "    response = openai.Completion.create(\n",
    "      engine=\"YOUR_AOAI_MODEL_DEPLOYMENT_NAME-text-davinci-002\",\n",
    "      prompt=\"Classify the sentiment of the following review content following categories: \\\n",
    "      categories: [Negative, Netural, Positive]\\n\\nreview content : \" + review_content + \"\\n\\nClassified sentiment:\",\n",
    "      max_tokens=10)\n",
    "    classified_sentiment = response['choices'][0]['text'].replace(\" \", \"\")\n",
    "    # print(\"Classified Sentiment of Review Content: {}\".format(classified_sentiment))\n",
    "    print(\"Sentiment Classified\")\n",
    "    \n",
    "    # Use AOAI GPT-3 to summarize the review content.\n",
    "    response2 = openai.Completion.create(\n",
    "      engine=\"YOUR_AOAI_MODEL_DEPLOYMENT_NAME-text-davinci-002\",\n",
    "      prompt=\"Summarize the following review content in one sentence:\" \\\n",
    "      + review_content + \"\\n\\nOne Sentence:\",\n",
    "      max_tokens=100)\n",
    "    summarized_sentence = response2['choices'][0]['text'].replace(\"\\n\",\"\")\n",
    "    # print(\"Summarize Sentence from the Review Content: {}\".format(summarized_sentence))\n",
    "    print(\"Summarize Sentence Generated\")\n",
    "    \n",
    "    # Use AOAI GPT-3 to summarize 3 keyword based on the review content.\n",
    "    response3 = openai.Completion.create(\n",
    "      engine=\"YOUR_AOAI_MODEL_DEPLOYMENT_NAME-text-davinci-002\",\n",
    "      prompt=\"Based on the review content, summarize in 3 keywords:\" \\\n",
    "      + review_content + \"\\n\\nKeywords:\",\n",
    "      max_tokens=20)\n",
    "    summarized_keywords = response3['choices'][0]['text'].replace(\"\\n\",\"\").replace(\".\",\"\")\n",
    "    # print(\"Summarize 3 Keywords from the Review Content: {}\".format(summarized_keywords))\n",
    "    print(\"Summarize Keywords Generated\")\n",
    "    \n",
    "    # Use AOAI GPT-3 to craft a reply message based on the review content.\n",
    "    response4 = openai.Completion.create(\n",
    "      engine=\"YOUR_AOAI_MODEL_DEPLOYMENT_NAME-text-davinci-002\",\n",
    "      prompt=\"Based on the review content, craft a reply message:\" \\\n",
    "      + review_content + \"\\n\\nReply Message:\",\n",
    "      max_tokens=100)\n",
    "    reply_message = response4['choices'][0]['text'].replace(\"\\n\",\"\")\n",
    "    # print(\"Draft of reply message based on the Review Content: {}\".format(reply_message))\n",
    "    print(\"Draft of Reply Message Generated\")\n",
    "    \n",
    "    # Append the insights result into a list.\n",
    "    review_content_list.append([review_content, classified_sentiment, summarized_sentence, summarized_keywords, \\\n",
    "                                reply_message])\n",
    "\n",
    "# Convert the list of insights into a Pandas dataframe.\n",
    "review_content_df = pd.DataFrame(review_content_list, columns=['review_content', 'classified_sentiment', \\\n",
    "                                                               'summarized_sentence', 'summarized_keywords', \\\n",
    "                                                               'reply_message'])"
   ]
  },
  {
   "cell_type": "code",
   "execution_count": 138,
   "id": "0ae534be",
   "metadata": {},
   "outputs": [
    {
     "data": {
      "text/html": [
       "<div>\n",
       "<style scoped>\n",
       "    .dataframe tbody tr th:only-of-type {\n",
       "        vertical-align: middle;\n",
       "    }\n",
       "\n",
       "    .dataframe tbody tr th {\n",
       "        vertical-align: top;\n",
       "    }\n",
       "\n",
       "    .dataframe thead th {\n",
       "        text-align: right;\n",
       "    }\n",
       "</style>\n",
       "<table border=\"1\" class=\"dataframe\">\n",
       "  <thead>\n",
       "    <tr style=\"text-align: right;\">\n",
       "      <th></th>\n",
       "      <th>review_content</th>\n",
       "      <th>classified_sentiment</th>\n",
       "      <th>summarized_sentence</th>\n",
       "      <th>summarized_keywords</th>\n",
       "      <th>reply_message</th>\n",
       "    </tr>\n",
       "  </thead>\n",
       "  <tbody>\n",
       "    <tr>\n",
       "      <th>0</th>\n",
       "      <td>I love ASOS and allCustomer service they are j...</td>\n",
       "      <td>Positive</td>\n",
       "      <td>ASOS has amazing customer service and I love ...</td>\n",
       "      <td>ASOS, customer service, online shopping</td>\n",
       "      <td>Hi there,Thank you so much for your kind words...</td>\n",
       "    </tr>\n",
       "    <tr>\n",
       "      <th>1</th>\n",
       "      <td>My order was left outside and the school kids ...</td>\n",
       "      <td>Positive</td>\n",
       "      <td>I had a great experience with ASOS's customer ...</td>\n",
       "      <td>ASOS, customer service, kind</td>\n",
       "      <td>Thank you so much for sharing your experience ...</td>\n",
       "    </tr>\n",
       "    <tr>\n",
       "      <th>2</th>\n",
       "      <td>Helpful and friendly staff.</td>\n",
       "      <td>Positive</td>\n",
       "      <td>The staff is friendly and helpful.</td>\n",
       "      <td>helpful, friendly, staff</td>\n",
       "      <td>Thank you so much for your kind words - our s...</td>\n",
       "    </tr>\n",
       "    <tr>\n",
       "      <th>3</th>\n",
       "      <td>Replied quickly and made sure their customers ...</td>\n",
       "      <td>Positive</td>\n",
       "      <td>The seller replied quickly and made sure their...</td>\n",
       "      <td>customer service, responsive, accommodating</td>\n",
       "      <td>Thank you for your positive review! We're happ...</td>\n",
       "    </tr>\n",
       "    <tr>\n",
       "      <th>4</th>\n",
       "      <td>Rebecca was patient and helpful with my querie...</td>\n",
       "      <td>Negative</td>\n",
       "      <td>ASOS delivery seems to have logistic issues, ...</td>\n",
       "      <td>ASOS, Delivery, Rebecca</td>\n",
       "      <td>Hi, we're sorry to hear that there have been s...</td>\n",
       "    </tr>\n",
       "    <tr>\n",
       "      <th>5</th>\n",
       "      <td>Fast, kind, clear answer! Perfect that I love ...</td>\n",
       "      <td>Positive</td>\n",
       "      <td>The reviewer loved the fast, kind, and clear ...</td>\n",
       "      <td>ASOS, fast, kind, clear</td>\n",
       "      <td>Thank you! We're happy to hear that you love ...</td>\n",
       "    </tr>\n",
       "    <tr>\n",
       "      <th>6</th>\n",
       "      <td>It took over 20 minutes to be connected with t...</td>\n",
       "      <td>Negative</td>\n",
       "      <td>It took over 20 minutes to be connected with t...</td>\n",
       "      <td>online chat, customer service, wait time</td>\n",
       "      <td>We are sorry for the poor experience you had w...</td>\n",
       "    </tr>\n",
       "    <tr>\n",
       "      <th>7</th>\n",
       "      <td>Terrible firm. I had such a bad time trying to...</td>\n",
       "      <td>Negative</td>\n",
       "      <td>The reviewer had a bad experience with the fi...</td>\n",
       "      <td>terrible, bad, pantomime</td>\n",
       "      <td>Thank you for sharing your experience with us....</td>\n",
       "    </tr>\n",
       "    <tr>\n",
       "      <th>8</th>\n",
       "      <td>very helpful, clear and prompt</td>\n",
       "      <td>Positive</td>\n",
       "      <td>The review is positive and mentions that the ...</td>\n",
       "      <td>helpful, clear, prompt</td>\n",
       "      <td>Thank you so much for your helpful and clear r...</td>\n",
       "    </tr>\n",
       "    <tr>\n",
       "      <th>9</th>\n",
       "      <td>Ordered a Vivienne Westwood which was delivere...</td>\n",
       "      <td>Positive</td>\n",
       "      <td>I ordered a watch from ASOS, but it arrived w...</td>\n",
       "      <td>Westwood, ASOS, Donique</td>\n",
       "      <td>Thank you for your review. We're sorry to hear...</td>\n",
       "    </tr>\n",
       "  </tbody>\n",
       "</table>\n",
       "</div>"
      ],
      "text/plain": [
       "                                      review_content classified_sentiment  \\\n",
       "0  I love ASOS and allCustomer service they are j...             Positive   \n",
       "1  My order was left outside and the school kids ...             Positive   \n",
       "2                        Helpful and friendly staff.             Positive   \n",
       "3  Replied quickly and made sure their customers ...             Positive   \n",
       "4  Rebecca was patient and helpful with my querie...             Negative   \n",
       "5  Fast, kind, clear answer! Perfect that I love ...             Positive   \n",
       "6  It took over 20 minutes to be connected with t...             Negative   \n",
       "7  Terrible firm. I had such a bad time trying to...             Negative   \n",
       "8                     very helpful, clear and prompt             Positive   \n",
       "9  Ordered a Vivienne Westwood which was delivere...             Positive   \n",
       "\n",
       "                                 summarized_sentence  \\\n",
       "0   ASOS has amazing customer service and I love ...   \n",
       "1  I had a great experience with ASOS's customer ...   \n",
       "2                 The staff is friendly and helpful.   \n",
       "3  The seller replied quickly and made sure their...   \n",
       "4   ASOS delivery seems to have logistic issues, ...   \n",
       "5   The reviewer loved the fast, kind, and clear ...   \n",
       "6  It took over 20 minutes to be connected with t...   \n",
       "7   The reviewer had a bad experience with the fi...   \n",
       "8   The review is positive and mentions that the ...   \n",
       "9   I ordered a watch from ASOS, but it arrived w...   \n",
       "\n",
       "                            summarized_keywords  \\\n",
       "0       ASOS, customer service, online shopping   \n",
       "1                  ASOS, customer service, kind   \n",
       "2                      helpful, friendly, staff   \n",
       "3   customer service, responsive, accommodating   \n",
       "4                       ASOS, Delivery, Rebecca   \n",
       "5                       ASOS, fast, kind, clear   \n",
       "6      online chat, customer service, wait time   \n",
       "7                      terrible, bad, pantomime   \n",
       "8                        helpful, clear, prompt   \n",
       "9                       Westwood, ASOS, Donique   \n",
       "\n",
       "                                       reply_message  \n",
       "0  Hi there,Thank you so much for your kind words...  \n",
       "1  Thank you so much for sharing your experience ...  \n",
       "2   Thank you so much for your kind words - our s...  \n",
       "3  Thank you for your positive review! We're happ...  \n",
       "4  Hi, we're sorry to hear that there have been s...  \n",
       "5   Thank you! We're happy to hear that you love ...  \n",
       "6  We are sorry for the poor experience you had w...  \n",
       "7  Thank you for sharing your experience with us....  \n",
       "8  Thank you so much for your helpful and clear r...  \n",
       "9  Thank you for your review. We're sorry to hear...  "
      ]
     },
     "execution_count": 138,
     "metadata": {},
     "output_type": "execute_result"
    }
   ],
   "source": [
    "# Display the result dataframe with the insights from AOAI GPT-3.\n",
    "review_content_df"
   ]
  },
  {
   "cell_type": "code",
   "execution_count": 144,
   "id": "58f9c7ea",
   "metadata": {},
   "outputs": [],
   "source": [
    "# Save the result dataframe into a CSV file.\n",
    "review_content_df.to_csv(\"./data/analyzed_review_content.csv\")"
   ]
  },
  {
   "cell_type": "code",
   "execution_count": 153,
   "id": "5ea4a8c0",
   "metadata": {},
   "outputs": [
    {
     "name": "stdout",
     "output_type": "stream",
     "text": [
      "I love ASOS and allCustomer service they are ju...\n",
      "My order was left outside and the school kids r...\n",
      "                       Helpful and friendly staff.\n",
      "Replied quickly and made sure their customers w...\n",
      "Rebecca was patient and helpful with my queries...\n",
      "Fast, kind, clear answer! Perfect that I love A...\n",
      "It took over 20 minutes to be connected with th...\n",
      "Terrible firm. I had such a bad time trying to ...\n",
      "                    very helpful, clear and prompt\n",
      "Ordered a Vivienne Westwood which was delivered...\n"
     ]
    }
   ],
   "source": [
    "# Concatenate all the review content into a single string.\n",
    "review_content_string = review_content_df['review_content'].to_string(header=False, index=False)\n",
    "print(review_content_string)"
   ]
  },
  {
   "cell_type": "code",
   "execution_count": 156,
   "id": "7b7482d8",
   "metadata": {},
   "outputs": [
    {
     "name": "stdout",
     "output_type": "stream",
     "text": [
      "ASOS has great customer service, with friendly and helpful staff. They are quick to reply to queries and make sure their customers are satisfied. However, their phone lines can be slow and it can sometimes take a while to get through to a representative. Overall, ASOS is a great company to order from.\n"
     ]
    }
   ],
   "source": [
    "# Use AOAI GPT-3 to summarize all the review content.\n",
    "response5 = openai.Completion.create(\n",
    "  engine=\"YOUR_AOAI_MODEL_DEPLOYMENT_NAME-text-davinci-002\",\n",
    "  prompt=\"Summarize the following review content in 100 words\" + review_content_string + \"\\n\\nSummary:\",\n",
    "  max_tokens=120)\n",
    "\n",
    "all_review_content_summary = response5['choices'][0]['text'].replace(\"\\n\",\"\")\n",
    "print(all_review_content_summary)"
   ]
  },
  {
   "cell_type": "code",
   "execution_count": 166,
   "id": "4a8ac723",
   "metadata": {},
   "outputs": [
    {
     "data": {
      "text/plain": [
       "<AxesSubplot:ylabel='review_content'>"
      ]
     },
     "execution_count": 166,
     "metadata": {},
     "output_type": "execute_result"
    },
    {
     "data": {
      "image/png": "[encoded data removed]",
      "text/plain": [
       "<Figure size 576x576 with 1 Axes>"
      ]
     },
     "metadata": {},
     "output_type": "display_data"
    }
   ],
   "source": [
    "# Visualize the classified sentiment of the review content as a pie chart.\n",
    "review_content_df.groupby(['classified_sentiment']).count().plot(kind='pie',y='review_content', autopct='%1.0f%%', \\\n",
    "                                                                figsize =(8,8))"
   ]
  },
  {
   "cell_type": "code",
   "execution_count": null,
   "id": "8ceb1f6b",
   "metadata": {},
   "outputs": [],
   "source": []
  }
 ],
 "metadata": {
  "kernelspec": {
   "display_name": "Python 3 (ipykernel)",
   "language": "python",
   "name": "python3"
  },
  "language_info": {
   "codemirror_mode": {
    "name": "ipython",
    "version": 3
   },
   "file_extension": ".py",
   "mimetype": "text/x-python",
   "name": "python",
   "nbconvert_exporter": "python",
   "pygments_lexer": "ipython3",
   "version": "3.9.7"
  }
 },
 "nbformat": 4,
 "nbformat_minor": 5
}
